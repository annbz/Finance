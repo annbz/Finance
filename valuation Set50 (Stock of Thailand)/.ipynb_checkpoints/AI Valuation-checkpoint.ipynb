{
 "cells": [
  {
   "cell_type": "code",
   "execution_count": 1,
   "id": "f002cda4-7baa-4eef-b007-d93b500c53b2",
   "metadata": {},
   "outputs": [],
   "source": [
    "import yfinance as yf\n",
    "import pandas as pd\n"
   ]
  },
  {
   "cell_type": "code",
   "execution_count": 21,
   "id": "70405a41-5b19-43df-a75e-c5a0b892ac66",
   "metadata": {},
   "outputs": [
    {
     "name": "stdout",
     "output_type": "stream",
     "text": [
      "Quarterly Financials:\n",
      "Empty DataFrame\n",
      "Columns: []\n",
      "Index: []\n",
      "\n",
      "Quarterly Balance Sheet:\n",
      "Empty DataFrame\n",
      "Columns: []\n",
      "Index: []\n",
      "\n",
      "Quarterly Cash Flow:\n",
      "Empty DataFrame\n",
      "Columns: []\n",
      "Index: []\n"
     ]
    }
   ],
   "source": [
    "def fetch_quarterly_financials(ticker):\n",
    "    stock = yf.Ticker(ticker)\n",
    "    financials_quarterly = stock.quarterly_financials  # งบกำไรขาดทุนไตรมาส\n",
    "    balance_sheet_quarterly = stock.quarterly_balance_sheet  # งบดุลไตรมาส\n",
    "    cashflow_quarterly = stock.quarterly_cashflow  # กระแสเงินสดไตรมาส\n",
    "\n",
    "    return financials_quarterly, balance_sheet_quarterly, cashflow_quarterly\n",
    "\n",
    "# ตัวอย่างการใช้งาน\n",
    "ticker_symbol = 'PTT.BK'  # สำหรับ Aspen Technology\n",
    "financials_q, balance_sheet_q, cashflow_q = fetch_quarterly_financials(ticker_symbol)\n",
    "\n",
    "print(\"Quarterly Financials:\")\n",
    "print(financials_q)\n",
    "print(\"\\nQuarterly Balance Sheet:\")\n",
    "print(balance_sheet_q)\n",
    "print(\"\\nQuarterly Cash Flow:\")\n",
    "print(cashflow_q)\n"
   ]
  },
  {
   "cell_type": "code",
   "execution_count": 19,
   "id": "e4a342a9-16db-4006-9c03-50f5f182a5f8",
   "metadata": {},
   "outputs": [],
   "source": [
    "financials_q.to_csv('AZPN_Quarterly_Financials.csv')\n",
    "balance_sheet_q.to_csv('AZPN_Quarterly_Balance_Sheet.csv')\n",
    "cashflow_q.to_csv('AZPN_Quarterly_Cash_Flow.csv')\n"
   ]
  },
  {
   "cell_type": "code",
   "execution_count": 1,
   "id": "edab83d6-59c2-4b37-b5e1-5db14d3cb674",
   "metadata": {},
   "outputs": [],
   "source": [
    "import tkinter as tk\n",
    "from tkinter import ttk, messagebox\n",
    "import pandas as pd\n",
    "import os\n",
    "\n",
    "def generate_report(stock_name):\n",
    "    # Sample data (in a real application, this could come from an API or database)\n",
    "    data = {\n",
    "        \"Date\": [\"2025-03-01\", \"2025-03-02\", \"2025-03-03\"],\n",
    "        \"Price\": [100, 102, 105],\n",
    "        \"Volume\": [1000, 1500, 1300]\n",
    "    }\n",
    "    df = pd.DataFrame(data)\n",
    "    \n",
    "    # Save as an Excel file\n",
    "    filename = f\"{stock_name}_Report.xlsx\"\n",
    "    filepath = os.path.join(os.path.expanduser(\"~\"), \"Downloads\", filename)\n",
    "    df.to_excel(filepath, index=False)\n",
    "    messagebox.showinfo(\"Success\", f\"Report saved to: {filepath}\")\n",
    "\n",
    "def download_report():\n",
    "    selected_stock = stock_var.get()\n",
    "    if not selected_stock:\n",
    "        messagebox.showerror(\"Error\", \"Please select a stock!\")\n",
    "    else:\n",
    "        generate_report(selected_stock)\n",
    "\n",
    "# Create GUI\n",
    "root = tk.Tk()\n",
    "root.title(\"Stock Report Generator\")\n",
    "root.geometry(\"300x200\")\n",
    "\n",
    "ttk.Label(root, text=\"Select a Stock:\").pack(pady=10)\n",
    "stock_var = tk.StringVar()\n",
    "stocks = [\"AOT\", \"SCB\", \"PTT\"]\n",
    "\n",
    "dropdown = ttk.Combobox(root, textvariable=stock_var, values=stocks, state=\"readonly\")\n",
    "dropdown.pack(pady=5)\n",
    "\n",
    "download_button = ttk.Button(root, text=\"Download Report\", command=download_report)\n",
    "download_button.pack(pady=20)\n",
    "\n",
    "root.mainloop()\n"
   ]
  },
  {
   "cell_type": "code",
   "execution_count": 5,
   "id": "70ec0264-046d-4912-a0dd-0aba5ce348e1",
   "metadata": {},
   "outputs": [
    {
     "ename": "SyntaxError",
     "evalue": "invalid syntax (2255461715.py, line 1)",
     "output_type": "error",
     "traceback": [
      "\u001b[1;36m  Cell \u001b[1;32mIn[5], line 1\u001b[1;36m\u001b[0m\n\u001b[1;33m    pyinstaller --onefile --windowed stock_report_gui.py\u001b[0m\n\u001b[1;37m                                     ^\u001b[0m\n\u001b[1;31mSyntaxError\u001b[0m\u001b[1;31m:\u001b[0m invalid syntax\n"
     ]
    }
   ],
   "source": [
    "#pyinstaller --onefile --windowed stock_report_gui.py\n",
    "python -m PyInstaller --onefile --windowed test.py\n"
   ]
  },
  {
   "cell_type": "code",
   "execution_count": null,
   "id": "e3e1a747-19a4-4826-96c0-23e8a6212c1c",
   "metadata": {},
   "outputs": [],
   "source": []
  }
 ],
 "metadata": {
  "kernelspec": {
   "display_name": "Python 3 (ipykernel)",
   "language": "python",
   "name": "python3"
  },
  "language_info": {
   "codemirror_mode": {
    "name": "ipython",
    "version": 3
   },
   "file_extension": ".py",
   "mimetype": "text/x-python",
   "name": "python",
   "nbconvert_exporter": "python",
   "pygments_lexer": "ipython3",
   "version": "3.12.4"
  }
 },
 "nbformat": 4,
 "nbformat_minor": 5
}
